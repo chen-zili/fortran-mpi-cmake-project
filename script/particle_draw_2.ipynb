{
 "cells": [
  {
   "cell_type": "code",
   "execution_count": null,
   "metadata": {},
   "outputs": [],
   "source": [
    "import os\n",
    "import sys\n",
    "import re\n",
    "import math\n",
    "\n",
    "from read_matrix import MatrixDataReader\n",
    "\n",
    "import matplotlib.font_manager as fm\n",
    "import numpy as np\n",
    "import matplotlib.pyplot as plt\n",
    "from matplotlib import cm"
   ]
  },
  {
   "cell_type": "code",
   "execution_count": null,
   "metadata": {},
   "outputs": [],
   "source": [
    "def read_particle(path, filename):\n",
    "    dirPath = os.path.abspath(path)\n",
    "    subDirs = os.listdir(dirPath)\n",
    "    subDirs.sort(reverse = False)\n",
    "\n",
    "    if len(subDirs) > 0:\n",
    "        tmpDir = list()\n",
    "\n",
    "        for i in range(len(subDirs)):\n",
    "            if len(re.findall(filename+'_\\d*[.]txt', subDirs[i])) > 0:\n",
    "                tmpDir.append(subDirs[i])\n",
    "\n",
    "        if len(tmpDir) > 0:\n",
    "            subDirs = tmpDir\n",
    "        else:\n",
    "            print('The number of directories that meet the rule is 0.')\n",
    "            exit(-1)\n",
    "\n",
    "    md = MatrixDataReader([os.path.join(dirPath, subD) for subD in subDirs])\n",
    "    md.is_print = False\n",
    "    md.read_matrices()\n",
    "    return md"
   ]
  },
  {
   "cell_type": "code",
   "execution_count": null,
   "metadata": {},
   "outputs": [],
   "source": [
    "def get_colors_from_cmap(cmap_name, num_colors):\n",
    "    cmap = plt.cm.get_cmap(cmap_name, num_colors)\n",
    "    cols = cmap(np.linspace(0, 1, num_colors))\n",
    "    return cols"
   ]
  },
  {
   "cell_type": "code",
   "execution_count": null,
   "metadata": {},
   "outputs": [],
   "source": [
    "data_raw = read_particle('../build/', 'raw_par').data\n",
    "colors = get_colors_from_cmap('jet', len(data_raw))\n",
    "\n",
    "for i in range(len(data_raw)):\n",
    "    # plt.figure()\n",
    "    if data_raw[i]:\n",
    "        x = data_raw[i][0]\n",
    "        y = data_raw[i][1]\n",
    "\n",
    "        plt.plot(x, y, '.', color=colors[i])\n",
    "\n",
    "plt.xlabel('x')\n",
    "plt.ylabel('y')\n",
    "plt.show()"
   ]
  },
  {
   "cell_type": "code",
   "execution_count": null,
   "metadata": {},
   "outputs": [],
   "source": [
    "data_fin = read_particle('../build/', 'final_par').data\n",
    "colors = get_colors_from_cmap('jet', len(data_fin))\n",
    "\n",
    "for i in range(len(data_fin)):\n",
    "    if data_fin[i]:\n",
    "        x = data_fin[i][0]\n",
    "        y = data_fin[i][1]\n",
    "\n",
    "        plt.plot(x, y, '.', color=colors[i])\n",
    "\n",
    "plt.xlabel('x')\n",
    "plt.ylabel('y')\n",
    "plt.show()"
   ]
  },
  {
   "cell_type": "code",
   "execution_count": null,
   "metadata": {},
   "outputs": [],
   "source": [
    "fig, axes = plt.subplots(nrows=2, ncols=1, figsize=(10, 4), dpi=600)\n",
    "\n",
    "# 初始粒子\n",
    "for i in range(len(data_raw)):\n",
    "    if data_raw[i]:\n",
    "        x = data_raw[i][0]\n",
    "        y = data_raw[i][1]\n",
    "\n",
    "        axes[0].plot(x, y, '.', c='r')\n",
    "\n",
    "    axes[0].set_xlabel(\"x\")\n",
    "    axes[0].set_ylabel(\"y\")\n",
    "\n",
    "# 通信后粒子\n",
    "for i in range(len(data_fin)):\n",
    "    if data_fin[i]:\n",
    "        x = data_fin[i][0]\n",
    "        y = data_fin[i][1]\n",
    "\n",
    "        axes[1].plot(x, y, '.', c='y')\n",
    "\n",
    "    axes[1].set_xlabel(\"x\")\n",
    "    axes[1].set_ylabel(\"y\")\n",
    "\n",
    "\n",
    "plt.subplots_adjust(wspace=0.1, hspace=0.2)\n",
    "plt.show()"
   ]
  }
 ],
 "metadata": {
  "kernelspec": {
   "display_name": "Python 3.9.13 ('base')",
   "language": "python",
   "name": "python3"
  },
  "language_info": {
   "codemirror_mode": {
    "name": "ipython",
    "version": 3
   },
   "file_extension": ".py",
   "mimetype": "text/x-python",
   "name": "python",
   "nbconvert_exporter": "python",
   "pygments_lexer": "ipython3",
   "version": "3.9.13"
  },
  "orig_nbformat": 4,
  "vscode": {
   "interpreter": {
    "hash": "de7c8584ae51fbb089eecc0d6f203cc3cae3114d5c45556091d2c5b63465aa84"
   }
  }
 },
 "nbformat": 4,
 "nbformat_minor": 2
}
